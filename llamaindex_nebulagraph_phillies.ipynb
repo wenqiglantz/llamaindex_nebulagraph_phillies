{
 "cells": [
  {
   "cell_type": "markdown",
   "id": "66d337ee",
   "metadata": {},
   "source": [
    "# Knowledge Graph RAG with LlamaIndex, querying Philadelphia Phillies"
   ]
  },
  {
   "cell_type": "markdown",
   "id": "526f7a29",
   "metadata": {},
   "source": [
    "## Table of Contents"
   ]
  },
  {
   "cell_type": "markdown",
   "id": "23e63d85",
   "metadata": {},
   "source": [
    "## Installation and Configuration"
   ]
  },
  {
   "cell_type": "code",
   "execution_count": 1,
   "id": "28c37b8b",
   "metadata": {
    "scrolled": true
   },
   "outputs": [
    {
     "name": "stdout",
     "output_type": "stream",
     "text": [
      "Requirement already satisfied: llama_index==0.8.31 in c:\\users\\wglantz\\appdata\\local\\anaconda3\\lib\\site-packages (0.8.31)\n",
      "Requirement already satisfied: ipython-ngql in c:\\users\\wglantz\\appdata\\local\\anaconda3\\lib\\site-packages (0.7.1)\n",
      "Requirement already satisfied: nebula3-python in c:\\users\\wglantz\\appdata\\local\\anaconda3\\lib\\site-packages (3.4.0)\n",
      "Requirement already satisfied: youtube_transcript_api in c:\\users\\wglantz\\appdata\\local\\anaconda3\\lib\\site-packages (0.6.1)\n",
      "Requirement already satisfied: pyvis in c:\\users\\wglantz\\appdata\\local\\anaconda3\\lib\\site-packages (0.3.2)\n",
      "Requirement already satisfied: networkx in c:\\users\\wglantz\\appdata\\local\\anaconda3\\lib\\site-packages (2.8.4)\n",
      "Requirement already satisfied: beautifulsoup4 in c:\\users\\wglantz\\appdata\\local\\anaconda3\\lib\\site-packages (from llama_index==0.8.31) (4.11.1)\n",
      "Requirement already satisfied: tenacity<9.0.0,>=8.2.0 in c:\\users\\wglantz\\appdata\\local\\anaconda3\\lib\\site-packages (from llama_index==0.8.31) (8.2.3)\n",
      "Requirement already satisfied: tiktoken in c:\\users\\wglantz\\appdata\\local\\anaconda3\\lib\\site-packages (from llama_index==0.8.31) (0.5.1)\n",
      "Requirement already satisfied: pandas in c:\\users\\wglantz\\appdata\\local\\anaconda3\\lib\\site-packages (from llama_index==0.8.31) (1.5.3)\n",
      "Requirement already satisfied: nltk in c:\\users\\wglantz\\appdata\\local\\anaconda3\\lib\\site-packages (from llama_index==0.8.31) (3.7)\n",
      "Requirement already satisfied: openai>=0.26.4 in c:\\users\\wglantz\\appdata\\local\\anaconda3\\lib\\site-packages (from llama_index==0.8.31) (0.28.0)\n",
      "Requirement already satisfied: langchain>=0.0.293 in c:\\users\\wglantz\\appdata\\local\\anaconda3\\lib\\site-packages (from llama_index==0.8.31) (0.0.300)\n",
      "Requirement already satisfied: fsspec>=2023.5.0 in c:\\users\\wglantz\\appdata\\local\\anaconda3\\lib\\site-packages (from llama_index==0.8.31) (2023.9.1)\n",
      "Requirement already satisfied: typing-extensions>=4.5.0 in c:\\users\\wglantz\\appdata\\local\\anaconda3\\lib\\site-packages (from llama_index==0.8.31) (4.7.1)\n",
      "Requirement already satisfied: nest-asyncio in c:\\users\\wglantz\\appdata\\local\\anaconda3\\lib\\site-packages (from llama_index==0.8.31) (1.5.6)\n",
      "Requirement already satisfied: dataclasses-json in c:\\users\\wglantz\\appdata\\local\\anaconda3\\lib\\site-packages (from llama_index==0.8.31) (0.5.14)\n",
      "Requirement already satisfied: sqlalchemy>=2.0.15 in c:\\users\\wglantz\\appdata\\local\\anaconda3\\lib\\site-packages (from llama_index==0.8.31) (2.0.20)\n",
      "Requirement already satisfied: typing-inspect>=0.8.0 in c:\\users\\wglantz\\appdata\\local\\anaconda3\\lib\\site-packages (from llama_index==0.8.31) (0.9.0)\n",
      "Requirement already satisfied: numpy in c:\\users\\wglantz\\appdata\\local\\anaconda3\\lib\\site-packages (from llama_index==0.8.31) (1.23.5)\n",
      "Requirement already satisfied: urllib3<2 in c:\\users\\wglantz\\appdata\\local\\anaconda3\\lib\\site-packages (from llama_index==0.8.31) (1.26.14)\n",
      "Requirement already satisfied: Jinja2 in c:\\users\\wglantz\\appdata\\local\\anaconda3\\lib\\site-packages (from ipython-ngql) (3.1.2)\n",
      "Requirement already satisfied: six>=1.16.0 in c:\\users\\wglantz\\appdata\\local\\anaconda3\\lib\\site-packages (from nebula3-python) (1.16.0)\n",
      "Requirement already satisfied: pytz>=2021.1 in c:\\users\\wglantz\\appdata\\local\\anaconda3\\lib\\site-packages (from nebula3-python) (2022.7)\n",
      "Requirement already satisfied: future>=0.18.0 in c:\\users\\wglantz\\appdata\\local\\anaconda3\\lib\\site-packages (from nebula3-python) (0.18.3)\n",
      "Requirement already satisfied: httplib2>=0.20.0 in c:\\users\\wglantz\\appdata\\local\\anaconda3\\lib\\site-packages (from nebula3-python) (0.22.0)\n",
      "Requirement already satisfied: requests in c:\\users\\wglantz\\appdata\\local\\anaconda3\\lib\\site-packages (from youtube_transcript_api) (2.28.1)\n",
      "Requirement already satisfied: ipython>=5.3.0 in c:\\users\\wglantz\\appdata\\local\\anaconda3\\lib\\site-packages (from pyvis) (8.10.0)\n",
      "Requirement already satisfied: jsonpickle>=1.4.1 in c:\\users\\wglantz\\appdata\\local\\anaconda3\\lib\\site-packages (from pyvis) (3.0.2)\n",
      "Requirement already satisfied: pyparsing!=3.0.0,!=3.0.1,!=3.0.2,!=3.0.3,<4,>=2.4.2 in c:\\users\\wglantz\\appdata\\local\\anaconda3\\lib\\site-packages (from httplib2>=0.20.0->nebula3-python) (3.0.9)\n",
      "Requirement already satisfied: pickleshare in c:\\users\\wglantz\\appdata\\local\\anaconda3\\lib\\site-packages (from ipython>=5.3.0->pyvis) (0.7.5)\n",
      "Requirement already satisfied: backcall in c:\\users\\wglantz\\appdata\\local\\anaconda3\\lib\\site-packages (from ipython>=5.3.0->pyvis) (0.2.0)\n",
      "Requirement already satisfied: stack-data in c:\\users\\wglantz\\appdata\\local\\anaconda3\\lib\\site-packages (from ipython>=5.3.0->pyvis) (0.2.0)\n",
      "Requirement already satisfied: jedi>=0.16 in c:\\users\\wglantz\\appdata\\local\\anaconda3\\lib\\site-packages (from ipython>=5.3.0->pyvis) (0.18.1)\n",
      "Requirement already satisfied: matplotlib-inline in c:\\users\\wglantz\\appdata\\local\\anaconda3\\lib\\site-packages (from ipython>=5.3.0->pyvis) (0.1.6)\n",
      "Requirement already satisfied: prompt-toolkit<3.1.0,>=3.0.30 in c:\\users\\wglantz\\appdata\\local\\anaconda3\\lib\\site-packages (from ipython>=5.3.0->pyvis) (3.0.36)\n",
      "Requirement already satisfied: decorator in c:\\users\\wglantz\\appdata\\local\\anaconda3\\lib\\site-packages (from ipython>=5.3.0->pyvis) (5.1.1)\n",
      "Requirement already satisfied: colorama in c:\\users\\wglantz\\appdata\\local\\anaconda3\\lib\\site-packages (from ipython>=5.3.0->pyvis) (0.4.6)\n",
      "Requirement already satisfied: pygments>=2.4.0 in c:\\users\\wglantz\\appdata\\local\\anaconda3\\lib\\site-packages (from ipython>=5.3.0->pyvis) (2.11.2)\n",
      "Requirement already satisfied: traitlets>=5 in c:\\users\\wglantz\\appdata\\local\\anaconda3\\lib\\site-packages (from ipython>=5.3.0->pyvis) (5.7.1)\n",
      "Requirement already satisfied: MarkupSafe>=2.0 in c:\\users\\wglantz\\appdata\\local\\anaconda3\\lib\\site-packages (from Jinja2->ipython-ngql) (2.1.1)\n",
      "Requirement already satisfied: numexpr<3.0.0,>=2.8.4 in c:\\users\\wglantz\\appdata\\local\\anaconda3\\lib\\site-packages (from langchain>=0.0.293->llama_index==0.8.31) (2.8.4)\n",
      "Requirement already satisfied: aiohttp<4.0.0,>=3.8.3 in c:\\users\\wglantz\\appdata\\local\\anaconda3\\lib\\site-packages (from langchain>=0.0.293->llama_index==0.8.31) (3.8.5)\n",
      "Requirement already satisfied: async-timeout<5.0.0,>=4.0.0 in c:\\users\\wglantz\\appdata\\local\\anaconda3\\lib\\site-packages (from langchain>=0.0.293->llama_index==0.8.31) (4.0.3)\n",
      "Requirement already satisfied: jsonpatch<2.0,>=1.33 in c:\\users\\wglantz\\appdata\\local\\anaconda3\\lib\\site-packages (from langchain>=0.0.293->llama_index==0.8.31) (1.33)\n",
      "Requirement already satisfied: PyYAML>=5.3 in c:\\users\\wglantz\\appdata\\local\\anaconda3\\lib\\site-packages (from langchain>=0.0.293->llama_index==0.8.31) (6.0)\n",
      "Requirement already satisfied: langsmith<0.1.0,>=0.0.38 in c:\\users\\wglantz\\appdata\\local\\anaconda3\\lib\\site-packages (from langchain>=0.0.293->llama_index==0.8.31) (0.0.40)\n",
      "Requirement already satisfied: pydantic<3,>=1 in c:\\users\\wglantz\\appdata\\local\\anaconda3\\lib\\site-packages (from langchain>=0.0.293->llama_index==0.8.31) (2.3.0)\n",
      "Requirement already satisfied: anyio<4.0 in c:\\users\\wglantz\\appdata\\local\\anaconda3\\lib\\site-packages (from langchain>=0.0.293->llama_index==0.8.31) (3.5.0)\n",
      "Requirement already satisfied: marshmallow<4.0.0,>=3.18.0 in c:\\users\\wglantz\\appdata\\local\\anaconda3\\lib\\site-packages (from dataclasses-json->llama_index==0.8.31) (3.20.1)\n",
      "Requirement already satisfied: tqdm in c:\\users\\wglantz\\appdata\\local\\anaconda3\\lib\\site-packages (from openai>=0.26.4->llama_index==0.8.31) (4.64.1)\n",
      "Requirement already satisfied: certifi>=2017.4.17 in c:\\users\\wglantz\\appdata\\local\\anaconda3\\lib\\site-packages (from requests->youtube_transcript_api) (2023.5.7)\n",
      "Requirement already satisfied: charset-normalizer<3,>=2 in c:\\users\\wglantz\\appdata\\local\\anaconda3\\lib\\site-packages (from requests->youtube_transcript_api) (2.0.4)\n",
      "Requirement already satisfied: idna<4,>=2.5 in c:\\users\\wglantz\\appdata\\local\\anaconda3\\lib\\site-packages (from requests->youtube_transcript_api) (3.4)\n",
      "Requirement already satisfied: greenlet!=0.4.17 in c:\\users\\wglantz\\appdata\\local\\anaconda3\\lib\\site-packages (from sqlalchemy>=2.0.15->llama_index==0.8.31) (2.0.1)\n",
      "Requirement already satisfied: mypy-extensions>=0.3.0 in c:\\users\\wglantz\\appdata\\local\\anaconda3\\lib\\site-packages (from typing-inspect>=0.8.0->llama_index==0.8.31) (0.4.3)\n",
      "Requirement already satisfied: soupsieve>1.2 in c:\\users\\wglantz\\appdata\\local\\anaconda3\\lib\\site-packages (from beautifulsoup4->llama_index==0.8.31) (2.3.2.post1)\n",
      "Requirement already satisfied: click in c:\\users\\wglantz\\appdata\\local\\anaconda3\\lib\\site-packages (from nltk->llama_index==0.8.31) (8.0.4)\n",
      "Requirement already satisfied: joblib in c:\\users\\wglantz\\appdata\\local\\anaconda3\\lib\\site-packages (from nltk->llama_index==0.8.31) (1.1.1)\n",
      "Requirement already satisfied: regex>=2021.8.3 in c:\\users\\wglantz\\appdata\\local\\anaconda3\\lib\\site-packages (from nltk->llama_index==0.8.31) (2022.7.9)\n",
      "Requirement already satisfied: python-dateutil>=2.8.1 in c:\\users\\wglantz\\appdata\\local\\anaconda3\\lib\\site-packages (from pandas->llama_index==0.8.31) (2.8.2)\n",
      "Requirement already satisfied: multidict<7.0,>=4.5 in c:\\users\\wglantz\\appdata\\local\\anaconda3\\lib\\site-packages (from aiohttp<4.0.0,>=3.8.3->langchain>=0.0.293->llama_index==0.8.31) (6.0.4)\n",
      "Requirement already satisfied: yarl<2.0,>=1.0 in c:\\users\\wglantz\\appdata\\local\\anaconda3\\lib\\site-packages (from aiohttp<4.0.0,>=3.8.3->langchain>=0.0.293->llama_index==0.8.31) (1.9.2)\n",
      "Requirement already satisfied: frozenlist>=1.1.1 in c:\\users\\wglantz\\appdata\\local\\anaconda3\\lib\\site-packages (from aiohttp<4.0.0,>=3.8.3->langchain>=0.0.293->llama_index==0.8.31) (1.4.0)\n",
      "Requirement already satisfied: attrs>=17.3.0 in c:\\users\\wglantz\\appdata\\local\\anaconda3\\lib\\site-packages (from aiohttp<4.0.0,>=3.8.3->langchain>=0.0.293->llama_index==0.8.31) (22.1.0)\n",
      "Requirement already satisfied: aiosignal>=1.1.2 in c:\\users\\wglantz\\appdata\\local\\anaconda3\\lib\\site-packages (from aiohttp<4.0.0,>=3.8.3->langchain>=0.0.293->llama_index==0.8.31) (1.3.1)\n",
      "Requirement already satisfied: sniffio>=1.1 in c:\\users\\wglantz\\appdata\\local\\anaconda3\\lib\\site-packages (from anyio<4.0->langchain>=0.0.293->llama_index==0.8.31) (1.2.0)\n",
      "Requirement already satisfied: parso<0.9.0,>=0.8.0 in c:\\users\\wglantz\\appdata\\local\\anaconda3\\lib\\site-packages (from jedi>=0.16->ipython>=5.3.0->pyvis) (0.8.3)\n",
      "Requirement already satisfied: jsonpointer>=1.9 in c:\\users\\wglantz\\appdata\\local\\anaconda3\\lib\\site-packages (from jsonpatch<2.0,>=1.33->langchain>=0.0.293->llama_index==0.8.31) (2.1)\n",
      "Requirement already satisfied: packaging>=17.0 in c:\\users\\wglantz\\appdata\\local\\anaconda3\\lib\\site-packages (from marshmallow<4.0.0,>=3.18.0->dataclasses-json->llama_index==0.8.31) (22.0)\n",
      "Requirement already satisfied: wcwidth in c:\\users\\wglantz\\appdata\\local\\anaconda3\\lib\\site-packages (from prompt-toolkit<3.1.0,>=3.0.30->ipython>=5.3.0->pyvis) (0.2.5)\n",
      "Requirement already satisfied: annotated-types>=0.4.0 in c:\\users\\wglantz\\appdata\\local\\anaconda3\\lib\\site-packages (from pydantic<3,>=1->langchain>=0.0.293->llama_index==0.8.31) (0.5.0)\n",
      "Requirement already satisfied: pydantic-core==2.6.3 in c:\\users\\wglantz\\appdata\\local\\anaconda3\\lib\\site-packages (from pydantic<3,>=1->langchain>=0.0.293->llama_index==0.8.31) (2.6.3)\n",
      "Requirement already satisfied: executing in c:\\users\\wglantz\\appdata\\local\\anaconda3\\lib\\site-packages (from stack-data->ipython>=5.3.0->pyvis) (0.8.3)\n",
      "Requirement already satisfied: pure-eval in c:\\users\\wglantz\\appdata\\local\\anaconda3\\lib\\site-packages (from stack-data->ipython>=5.3.0->pyvis) (0.2.2)\n",
      "Requirement already satisfied: asttokens in c:\\users\\wglantz\\appdata\\local\\anaconda3\\lib\\site-packages (from stack-data->ipython>=5.3.0->pyvis) (2.0.5)\n",
      "Note: you may need to restart the kernel to use updated packages.\n"
     ]
    }
   ],
   "source": [
    "%pip install llama_index==0.8.31 ipython-ngql nebula3-python pyvis networkx youtube_transcript_api"
   ]
  },
  {
   "cell_type": "code",
   "execution_count": 2,
   "id": "01202746",
   "metadata": {},
   "outputs": [],
   "source": [
    "import os\n",
    "import logging\n",
    "import sys\n",
    "\n",
    "os.environ[\"OPENAI_API_KEY\"] = \"sk-#################\"\n",
    "\n",
    "logging.basicConfig(stream=sys.stdout, level=logging.ERROR)"
   ]
  },
  {
   "cell_type": "markdown",
   "id": "f1fc97cc",
   "metadata": {},
   "source": [
    "## Connect to Nebula Graph and set up new space"
   ]
  },
  {
   "cell_type": "code",
   "execution_count": 3,
   "id": "7eadf711",
   "metadata": {},
   "outputs": [
    {
     "name": "stdout",
     "output_type": "stream",
     "text": [
      "Connection Pool Created\n"
     ]
    },
    {
     "data": {
      "text/html": [
       "<div>\n",
       "<style scoped>\n",
       "    .dataframe tbody tr th:only-of-type {\n",
       "        vertical-align: middle;\n",
       "    }\n",
       "\n",
       "    .dataframe tbody tr th {\n",
       "        vertical-align: top;\n",
       "    }\n",
       "\n",
       "    .dataframe thead th {\n",
       "        text-align: right;\n",
       "    }\n",
       "</style>\n",
       "<table border=\"1\" class=\"dataframe\">\n",
       "  <thead>\n",
       "    <tr style=\"text-align: right;\">\n",
       "      <th></th>\n",
       "      <th>Name</th>\n",
       "    </tr>\n",
       "  </thead>\n",
       "  <tbody>\n",
       "    <tr>\n",
       "      <th>0</th>\n",
       "      <td>demo_basketballplayer</td>\n",
       "    </tr>\n",
       "    <tr>\n",
       "      <th>1</th>\n",
       "      <td>phillies_rag</td>\n",
       "    </tr>\n",
       "  </tbody>\n",
       "</table>\n",
       "</div>"
      ],
      "text/plain": [
       "                    Name\n",
       "0  demo_basketballplayer\n",
       "1           phillies_rag"
      ]
     },
     "execution_count": 3,
     "metadata": {},
     "output_type": "execute_result"
    }
   ],
   "source": [
    "os.environ[\"GRAPHD_HOST\"] = \"127.0.0.1\"\n",
    "os.environ[\"NEBULA_USER\"] = \"root\"\n",
    "os.environ[\"NEBULA_PASSWORD\"] = \"nebula\" \n",
    "os.environ[\"NEBULA_ADDRESS\"] = \"127.0.0.1:9669\"  \n",
    "\n",
    "%reload_ext ngql\n",
    "connection_string = f\"--address {os.environ['GRAPHD_HOST']} --port 9669 --user root --password {os.environ['NEBULA_PASSWORD']}\"\n",
    "%ngql {connection_string}"
   ]
  },
  {
   "cell_type": "code",
   "execution_count": 4,
   "id": "5892a781",
   "metadata": {},
   "outputs": [
    {
     "data": {
      "text/html": [
       "<div>\n",
       "<style scoped>\n",
       "    .dataframe tbody tr th:only-of-type {\n",
       "        vertical-align: middle;\n",
       "    }\n",
       "\n",
       "    .dataframe tbody tr th {\n",
       "        vertical-align: top;\n",
       "    }\n",
       "\n",
       "    .dataframe thead th {\n",
       "        text-align: right;\n",
       "    }\n",
       "</style>\n",
       "<table border=\"1\" class=\"dataframe\">\n",
       "  <thead>\n",
       "    <tr style=\"text-align: right;\">\n",
       "      <th></th>\n",
       "    </tr>\n",
       "  </thead>\n",
       "  <tbody>\n",
       "  </tbody>\n",
       "</table>\n",
       "</div>"
      ],
      "text/plain": [
       "Empty DataFrame\n",
       "Columns: []\n",
       "Index: []"
      ]
     },
     "execution_count": 4,
     "metadata": {},
     "output_type": "execute_result"
    }
   ],
   "source": [
    "%ngql CREATE SPACE IF NOT EXISTS phillies_rag(vid_type=FIXED_STRING(256), partition_num=1, replica_factor=1);"
   ]
  },
  {
   "cell_type": "code",
   "execution_count": 5,
   "id": "fa1742de",
   "metadata": {},
   "outputs": [
    {
     "data": {
      "text/html": [
       "<div>\n",
       "<style scoped>\n",
       "    .dataframe tbody tr th:only-of-type {\n",
       "        vertical-align: middle;\n",
       "    }\n",
       "\n",
       "    .dataframe tbody tr th {\n",
       "        vertical-align: top;\n",
       "    }\n",
       "\n",
       "    .dataframe thead th {\n",
       "        text-align: right;\n",
       "    }\n",
       "</style>\n",
       "<table border=\"1\" class=\"dataframe\">\n",
       "  <thead>\n",
       "    <tr style=\"text-align: right;\">\n",
       "      <th></th>\n",
       "      <th>Name</th>\n",
       "    </tr>\n",
       "  </thead>\n",
       "  <tbody>\n",
       "    <tr>\n",
       "      <th>0</th>\n",
       "      <td>demo_basketballplayer</td>\n",
       "    </tr>\n",
       "    <tr>\n",
       "      <th>1</th>\n",
       "      <td>phillies_rag</td>\n",
       "    </tr>\n",
       "  </tbody>\n",
       "</table>\n",
       "</div>"
      ],
      "text/plain": [
       "                    Name\n",
       "0  demo_basketballplayer\n",
       "1           phillies_rag"
      ]
     },
     "execution_count": 5,
     "metadata": {},
     "output_type": "execute_result"
    }
   ],
   "source": [
    "%ngql SHOW SPACES;"
   ]
  },
  {
   "cell_type": "code",
   "execution_count": 6,
   "id": "7dfd6fa3",
   "metadata": {},
   "outputs": [
    {
     "data": {
      "text/html": [
       "<div>\n",
       "<style scoped>\n",
       "    .dataframe tbody tr th:only-of-type {\n",
       "        vertical-align: middle;\n",
       "    }\n",
       "\n",
       "    .dataframe tbody tr th {\n",
       "        vertical-align: top;\n",
       "    }\n",
       "\n",
       "    .dataframe thead th {\n",
       "        text-align: right;\n",
       "    }\n",
       "</style>\n",
       "<table border=\"1\" class=\"dataframe\">\n",
       "  <thead>\n",
       "    <tr style=\"text-align: right;\">\n",
       "      <th></th>\n",
       "    </tr>\n",
       "  </thead>\n",
       "  <tbody>\n",
       "  </tbody>\n",
       "</table>\n",
       "</div>"
      ],
      "text/plain": [
       "Empty DataFrame\n",
       "Columns: []\n",
       "Index: []"
      ]
     },
     "execution_count": 6,
     "metadata": {},
     "output_type": "execute_result"
    }
   ],
   "source": [
    "%%ngql\n",
    "USE phillies_rag;\n",
    "CREATE TAG IF NOT EXISTS entity(name string);\n",
    "CREATE EDGE IF NOT EXISTS relationship(relationship string);"
   ]
  },
  {
   "cell_type": "code",
   "execution_count": 7,
   "id": "879761b9",
   "metadata": {},
   "outputs": [
    {
     "data": {
      "text/html": [
       "<div>\n",
       "<style scoped>\n",
       "    .dataframe tbody tr th:only-of-type {\n",
       "        vertical-align: middle;\n",
       "    }\n",
       "\n",
       "    .dataframe tbody tr th {\n",
       "        vertical-align: top;\n",
       "    }\n",
       "\n",
       "    .dataframe thead th {\n",
       "        text-align: right;\n",
       "    }\n",
       "</style>\n",
       "<table border=\"1\" class=\"dataframe\">\n",
       "  <thead>\n",
       "    <tr style=\"text-align: right;\">\n",
       "      <th></th>\n",
       "    </tr>\n",
       "  </thead>\n",
       "  <tbody>\n",
       "  </tbody>\n",
       "</table>\n",
       "</div>"
      ],
      "text/plain": [
       "Empty DataFrame\n",
       "Columns: []\n",
       "Index: []"
      ]
     },
     "execution_count": 7,
     "metadata": {},
     "output_type": "execute_result"
    }
   ],
   "source": [
    "%ngql CREATE TAG INDEX IF NOT EXISTS entity_index ON entity(name(256));"
   ]
  },
  {
   "cell_type": "code",
   "execution_count": 8,
   "id": "9275b914",
   "metadata": {},
   "outputs": [],
   "source": [
    "from llama_index.storage.storage_context import StorageContext\n",
    "from llama_index.graph_stores import NebulaGraphStore\n",
    "\n",
    "space_name = \"phillies_rag\"\n",
    "edge_types, rel_prop_names = [\"relationship\"], [\"relationship\"]\n",
    "tags = [\"entity\"]\n",
    "\n",
    "graph_store = NebulaGraphStore(\n",
    "    space_name=space_name,\n",
    "    edge_types=edge_types,\n",
    "    rel_prop_names=rel_prop_names,\n",
    "    tags=tags,\n",
    ")\n",
    "storage_context = StorageContext.from_defaults(graph_store=graph_store)"
   ]
  },
  {
   "cell_type": "markdown",
   "id": "208852a5",
   "metadata": {},
   "source": [
    "## Load data and create KG index"
   ]
  },
  {
   "cell_type": "code",
   "execution_count": 9,
   "id": "3d650799",
   "metadata": {},
   "outputs": [],
   "source": [
    "from llama_index import (\n",
    "    LLMPredictor,\n",
    "    ServiceContext,\n",
    "    KnowledgeGraphIndex,\n",
    ")\n",
    "from llama_index.graph_stores import SimpleGraphStore\n",
    "from llama_index import download_loader\n",
    "from llama_index.llms import OpenAI\n",
    "\n",
    "# define LLM\n",
    "llm = OpenAI(temperature=0.1, model=\"gpt-3.5-turbo\")\n",
    "service_context = ServiceContext.from_defaults(llm=llm, chunk_size=512)"
   ]
  },
  {
   "cell_type": "code",
   "execution_count": 10,
   "id": "cb727e26",
   "metadata": {},
   "outputs": [],
   "source": [
    "from llama_index import load_index_from_storage\n",
    "from llama_hub.youtube_transcript import YoutubeTranscriptReader\n",
    "\n",
    "try:\n",
    "\n",
    "    storage_context = StorageContext.from_defaults(persist_dir='./storage_graph', graph_store=graph_store)\n",
    "    kg_index = load_index_from_storage(\n",
    "        storage_context=storage_context,\n",
    "        service_context=service_context,\n",
    "        max_triplets_per_chunk=15,\n",
    "        space_name=space_name,\n",
    "        edge_types=edge_types,\n",
    "        rel_prop_names=rel_prop_names,\n",
    "        tags=tags,\n",
    "        verbose=True,\n",
    "    )\n",
    "    index_loaded = True\n",
    "except:\n",
    "    index_loaded = False\n",
    "\n",
    "if not index_loaded:\n",
    "    \n",
    "    WikipediaReader = download_loader(\"WikipediaReader\")\n",
    "    loader = WikipediaReader()\n",
    "    wiki_documents = loader.load_data(pages=['Philadelphia Phillies'], auto_suggest=False)\n",
    "    print(f'Loaded {len(wiki_documents)} documents')\n",
    "\n",
    "    youtube_loader = YoutubeTranscriptReader()\n",
    "    youtube_documents = youtube_loader.load_data(ytlinks=['https://www.youtube.com/watch?v=k-HTQ8T7oVw'])    \n",
    "    print(f'Loaded {len(youtube_documents)} YouTube documents')\n",
    "\n",
    "    kg_index = KnowledgeGraphIndex.from_documents(\n",
    "        documents=wiki_documents + youtube_documents,\n",
    "        storage_context=storage_context,\n",
    "        max_triplets_per_chunk=15,\n",
    "        service_context=service_context,\n",
    "        space_name=space_name,\n",
    "        edge_types=edge_types,\n",
    "        rel_prop_names=rel_prop_names,\n",
    "        tags=tags,\n",
    "        include_embeddings=True,\n",
    "    )\n",
    "    \n",
    "    kg_index.storage_context.persist(persist_dir='./storage_graph')"
   ]
  },
  {
   "cell_type": "markdown",
   "id": "d6769d53",
   "metadata": {},
   "source": [
    "## Query with Text2Cypher"
   ]
  },
  {
   "cell_type": "code",
   "execution_count": 11,
   "id": "1e1d23f3",
   "metadata": {},
   "outputs": [],
   "source": [
    "from llama_index.query_engine import KnowledgeGraphQueryEngine\n",
    "from llama_index.storage.storage_context import StorageContext\n",
    "from llama_index.graph_stores import NebulaGraphStore\n",
    "from IPython.display import Markdown, display\n",
    "\n",
    "# query_engine = KnowledgeGraphQueryEngine(\n",
    "#     storage_context=storage_context,\n",
    "#     service_context=service_context,\n",
    "#     llm=llm,\n",
    "#     verbose=True,\n",
    "# )\n",
    "\n",
    "hybrid_query_engine = kg_index.as_query_engine(\n",
    "    include_text=True,\n",
    "    response_mode=\"tree_summarize\",\n",
    "    embedding_mode=\"hybrid\",\n",
    "    similarity_top_k=3,\n",
    "    explore_global_knowledge=True,\n",
    ")"
   ]
  },
  {
   "cell_type": "code",
   "execution_count": 12,
   "id": "c8410735",
   "metadata": {},
   "outputs": [
    {
     "data": {
      "text/markdown": [
       "<b>Bryce Harper is a baseball player who was named MVP of the NLCS. He also fueled tensions after signing a 13-year $330 million contract.</b>"
      ],
      "text/plain": [
       "<IPython.core.display.Markdown object>"
      ]
     },
     "metadata": {},
     "output_type": "display_data"
    }
   ],
   "source": [
    "hybrid_query_engine = kg_index.as_query_engine()\n",
    "response = hybrid_query_engine.query(\"Tell me about Bryce Harper.\")\n",
    "display(Markdown(f\"<b>{response}</b>\"))"
   ]
  },
  {
   "cell_type": "code",
   "execution_count": 13,
   "id": "de7326cc",
   "metadata": {},
   "outputs": [
    {
     "data": {
      "text/markdown": [
       "<b>Bryce Harper is a baseball player who was named MVP of the NLCS. He also fueled tensions after signing a 13-year $330 million contract.</b>"
      ],
      "text/plain": [
       "<IPython.core.display.Markdown object>"
      ]
     },
     "metadata": {},
     "output_type": "display_data"
    }
   ],
   "source": [
    "query_engine = kg_index.as_query_engine()\n",
    "response = query_engine.query(\"Tell me about Bryce Harper.\")\n",
    "display(Markdown(f\"<b>{response}</b>\"))"
   ]
  },
  {
   "cell_type": "code",
   "execution_count": 14,
   "id": "09923bdf",
   "metadata": {},
   "outputs": [
    {
     "data": {
      "text/markdown": [
       "<b>Bryce Harper is a baseball player who was named MVP of the NLCS. He also fueled tensions after signing a 13-year $330 million contract.</b>"
      ],
      "text/plain": [
       "<IPython.core.display.Markdown object>"
      ]
     },
     "metadata": {},
     "output_type": "display_data"
    }
   ],
   "source": [
    "response = query_engine.query(\"Tell me about Bryce Harper.\")\n",
    "display(Markdown(f\"<b>{response}</b>\"))"
   ]
  },
  {
   "cell_type": "code",
   "execution_count": 15,
   "id": "b4b199aa",
   "metadata": {},
   "outputs": [
    {
     "data": {
      "text/html": [
       "<div>\n",
       "<style scoped>\n",
       "    .dataframe tbody tr th:only-of-type {\n",
       "        vertical-align: middle;\n",
       "    }\n",
       "\n",
       "    .dataframe tbody tr th {\n",
       "        vertical-align: top;\n",
       "    }\n",
       "\n",
       "    .dataframe thead th {\n",
       "        text-align: right;\n",
       "    }\n",
       "</style>\n",
       "<table border=\"1\" class=\"dataframe\">\n",
       "  <thead>\n",
       "    <tr style=\"text-align: right;\">\n",
       "      <th></th>\n",
       "      <th>p</th>\n",
       "      <th>e</th>\n",
       "      <th>m</th>\n",
       "    </tr>\n",
       "  </thead>\n",
       "  <tbody>\n",
       "    <tr>\n",
       "      <th>0</th>\n",
       "      <td>(\"Bryce Harper\" :entity{name: \"Bryce Harper\"})</td>\n",
       "      <td>(\"Bryce Harper\")-[:relationship@45106556397841...</td>\n",
       "      <td>(\"13-year $330 million contract\" :entity{name:...</td>\n",
       "    </tr>\n",
       "    <tr>\n",
       "      <th>1</th>\n",
       "      <td>(\"Bryce Harper\" :entity{name: \"Bryce Harper\"})</td>\n",
       "      <td>(\"Bryce Harper\")-[:relationship@59824214907797...</td>\n",
       "      <td>(\"NLCS\" :entity{name: \"NLCS\"})</td>\n",
       "    </tr>\n",
       "  </tbody>\n",
       "</table>\n",
       "</div>"
      ],
      "text/plain": [
       "                                                p  \\\n",
       "0  (\"Bryce Harper\" :entity{name: \"Bryce Harper\"})   \n",
       "1  (\"Bryce Harper\" :entity{name: \"Bryce Harper\"})   \n",
       "\n",
       "                                                   e  \\\n",
       "0  (\"Bryce Harper\")-[:relationship@45106556397841...   \n",
       "1  (\"Bryce Harper\")-[:relationship@59824214907797...   \n",
       "\n",
       "                                                   m  \n",
       "0  (\"13-year $330 million contract\" :entity{name:...  \n",
       "1                     (\"NLCS\" :entity{name: \"NLCS\"})  "
      ]
     },
     "execution_count": 15,
     "metadata": {},
     "output_type": "execute_result"
    }
   ],
   "source": [
    "%%ngql\n",
    "MATCH (p:`entity`)-[e:relationship]->(m:`entity`)\n",
    "  WHERE p.`entity`.`name` == 'Bryce Harper'\n",
    "RETURN p, e, m;"
   ]
  },
  {
   "cell_type": "code",
   "execution_count": 16,
   "id": "904a738a",
   "metadata": {},
   "outputs": [
    {
     "data": {
      "text/html": [
       "\n",
       "        <iframe\n",
       "            width=\"100%\"\n",
       "            height=\"500px\"\n",
       "            src=\"nebulagraph.html\"\n",
       "            frameborder=\"0\"\n",
       "            allowfullscreen\n",
       "            \n",
       "        ></iframe>\n",
       "        "
      ],
      "text/plain": [
       "<IPython.lib.display.IFrame at 0x15b81603070>"
      ]
     },
     "metadata": {},
     "output_type": "display_data"
    },
    {
     "data": {
      "text/plain": [
       "<class 'pyvis.network.Network'> |N|=3 |E|=2"
      ]
     },
     "execution_count": 16,
     "metadata": {},
     "output_type": "execute_result"
    }
   ],
   "source": [
    "%ng_draw"
   ]
  },
  {
   "cell_type": "code",
   "execution_count": 17,
   "id": "37d83dc0",
   "metadata": {},
   "outputs": [
    {
     "data": {
      "text/markdown": [
       "<b>The impact of the standing ovation Trey Turner received seems to have positively influenced his season. Following the standing ovation, Trey Turner had a standout performance, mentioning that the hit he got felt like one of his best swings all year. In the 18 games since the standing ovation, Trey Turner has been excelling with a batting average of .343, five home runs, and 15 RBIs. It appears that the love and support shown by the fans during the standing ovation played a significant role in boosting Trey Turner's confidence and enhancing his on-field performance.</b>"
      ],
      "text/plain": [
       "<IPython.core.display.Markdown object>"
      ]
     },
     "metadata": {},
     "output_type": "display_data"
    }
   ],
   "source": [
    "response = query_engine.query(\"How did the standing ovation Trey Turner received change his season?\")\n",
    "display(Markdown(f\"<b>{response}</b>\"))"
   ]
  },
  {
   "cell_type": "code",
   "execution_count": 18,
   "id": "fd3f50b0",
   "metadata": {},
   "outputs": [
    {
     "data": {
      "text/html": [
       "<div>\n",
       "<style scoped>\n",
       "    .dataframe tbody tr th:only-of-type {\n",
       "        vertical-align: middle;\n",
       "    }\n",
       "\n",
       "    .dataframe tbody tr th {\n",
       "        vertical-align: top;\n",
       "    }\n",
       "\n",
       "    .dataframe thead th {\n",
       "        text-align: right;\n",
       "    }\n",
       "</style>\n",
       "<table border=\"1\" class=\"dataframe\">\n",
       "  <thead>\n",
       "    <tr style=\"text-align: right;\">\n",
       "      <th></th>\n",
       "      <th>p</th>\n",
       "      <th>r</th>\n",
       "      <th>q</th>\n",
       "    </tr>\n",
       "  </thead>\n",
       "  <tbody>\n",
       "    <tr>\n",
       "      <th>0</th>\n",
       "      <td>(\"Trey Turner\" :entity{name: \"Trey Turner\"})</td>\n",
       "      <td>(\"Trey Turner\")-[:relationship@-89965735714464...</td>\n",
       "      <td>(\"as quick\" :entity{name: \"as quick\"})</td>\n",
       "    </tr>\n",
       "    <tr>\n",
       "      <th>1</th>\n",
       "      <td>(\"Trey Turner\" :entity{name: \"Trey Turner\"})</td>\n",
       "      <td>(\"Trey Turner\")-[:relationship@-89414636367958...</td>\n",
       "      <td>(\"a standing ovation\" :entity{name: \"a standin...</td>\n",
       "    </tr>\n",
       "    <tr>\n",
       "      <th>2</th>\n",
       "      <td>(\"Trey Turner\" :entity{name: \"Trey Turner\"})</td>\n",
       "      <td>(\"Trey Turner\")-[:relationship@-89275189104623...</td>\n",
       "      <td>(\"in comments\" :entity{name: \"in comments\"})</td>\n",
       "    </tr>\n",
       "    <tr>\n",
       "      <th>3</th>\n",
       "      <td>(\"Trey Turner\" :entity{name: \"Trey Turner\"})</td>\n",
       "      <td>(\"Trey Turner\")-[:relationship@-86268653017792...</td>\n",
       "      <td>(\"25 hits\" :entity{name: \"25 hits\"})</td>\n",
       "    </tr>\n",
       "    <tr>\n",
       "      <th>4</th>\n",
       "      <td>(\"Trey Turner\" :entity{name: \"Trey Turner\"})</td>\n",
       "      <td>(\"Trey Turner\")-[:relationship@-86268653017792...</td>\n",
       "      <td>(\"5 home runs\" :entity{name: \"5 home runs\"})</td>\n",
       "    </tr>\n",
       "    <tr>\n",
       "      <th>...</th>\n",
       "      <td>...</td>\n",
       "      <td>...</td>\n",
       "      <td>...</td>\n",
       "    </tr>\n",
       "    <tr>\n",
       "      <th>70</th>\n",
       "      <td>(\"Trey Turner\" :entity{name: \"Trey Turner\"})</td>\n",
       "      <td>(\"Trey Turner\")-[:relationship@804341681940123...</td>\n",
       "      <td>(\"ball and strike call\" :entity{name: \"ball an...</td>\n",
       "    </tr>\n",
       "    <tr>\n",
       "      <th>71</th>\n",
       "      <td>(\"Trey Turner\" :entity{name: \"Trey Turner\"})</td>\n",
       "      <td>(\"Trey Turner\")-[:relationship@859994387799338...</td>\n",
       "      <td>(\"baseball\" :entity{name: \"baseball\"})</td>\n",
       "    </tr>\n",
       "    <tr>\n",
       "      <th>72</th>\n",
       "      <td>(\"Trey Turner\" :entity{name: \"Trey Turner\"})</td>\n",
       "      <td>(\"Trey Turner\")-[:relationship@859994387799338...</td>\n",
       "      <td>(\"fifth home run\" :entity{name: \"fifth home ru...</td>\n",
       "    </tr>\n",
       "    <tr>\n",
       "      <th>73</th>\n",
       "      <td>(\"Trey Turner\" :entity{name: \"Trey Turner\"})</td>\n",
       "      <td>(\"Trey Turner\")-[:relationship@878913129174356...</td>\n",
       "      <td>(\"inside of his own head\" :entity{name: \"insid...</td>\n",
       "    </tr>\n",
       "    <tr>\n",
       "      <th>74</th>\n",
       "      <td>(\"Trey Turner\" :entity{name: \"Trey Turner\"})</td>\n",
       "      <td>(\"Trey Turner\")-[:relationship@887114663913418...</td>\n",
       "      <td>(\"got higher\" :entity{name: \"got higher\"})</td>\n",
       "    </tr>\n",
       "  </tbody>\n",
       "</table>\n",
       "<p>75 rows × 3 columns</p>\n",
       "</div>"
      ],
      "text/plain": [
       "                                               p  \\\n",
       "0   (\"Trey Turner\" :entity{name: \"Trey Turner\"})   \n",
       "1   (\"Trey Turner\" :entity{name: \"Trey Turner\"})   \n",
       "2   (\"Trey Turner\" :entity{name: \"Trey Turner\"})   \n",
       "3   (\"Trey Turner\" :entity{name: \"Trey Turner\"})   \n",
       "4   (\"Trey Turner\" :entity{name: \"Trey Turner\"})   \n",
       "..                                           ...   \n",
       "70  (\"Trey Turner\" :entity{name: \"Trey Turner\"})   \n",
       "71  (\"Trey Turner\" :entity{name: \"Trey Turner\"})   \n",
       "72  (\"Trey Turner\" :entity{name: \"Trey Turner\"})   \n",
       "73  (\"Trey Turner\" :entity{name: \"Trey Turner\"})   \n",
       "74  (\"Trey Turner\" :entity{name: \"Trey Turner\"})   \n",
       "\n",
       "                                                    r  \\\n",
       "0   (\"Trey Turner\")-[:relationship@-89965735714464...   \n",
       "1   (\"Trey Turner\")-[:relationship@-89414636367958...   \n",
       "2   (\"Trey Turner\")-[:relationship@-89275189104623...   \n",
       "3   (\"Trey Turner\")-[:relationship@-86268653017792...   \n",
       "4   (\"Trey Turner\")-[:relationship@-86268653017792...   \n",
       "..                                                ...   \n",
       "70  (\"Trey Turner\")-[:relationship@804341681940123...   \n",
       "71  (\"Trey Turner\")-[:relationship@859994387799338...   \n",
       "72  (\"Trey Turner\")-[:relationship@859994387799338...   \n",
       "73  (\"Trey Turner\")-[:relationship@878913129174356...   \n",
       "74  (\"Trey Turner\")-[:relationship@887114663913418...   \n",
       "\n",
       "                                                    q  \n",
       "0              (\"as quick\" :entity{name: \"as quick\"})  \n",
       "1   (\"a standing ovation\" :entity{name: \"a standin...  \n",
       "2        (\"in comments\" :entity{name: \"in comments\"})  \n",
       "3                (\"25 hits\" :entity{name: \"25 hits\"})  \n",
       "4        (\"5 home runs\" :entity{name: \"5 home runs\"})  \n",
       "..                                                ...  \n",
       "70  (\"ball and strike call\" :entity{name: \"ball an...  \n",
       "71             (\"baseball\" :entity{name: \"baseball\"})  \n",
       "72  (\"fifth home run\" :entity{name: \"fifth home ru...  \n",
       "73  (\"inside of his own head\" :entity{name: \"insid...  \n",
       "74         (\"got higher\" :entity{name: \"got higher\"})  \n",
       "\n",
       "[75 rows x 3 columns]"
      ]
     },
     "execution_count": 18,
     "metadata": {},
     "output_type": "execute_result"
    }
   ],
   "source": [
    "%%ngql \n",
    "MATCH (p:`entity`)-[r:`relationship`]->(q:`entity`)\n",
    "WHERE p.`entity`.`name` == 'Trey Turner' \n",
    "RETURN p, r, q;"
   ]
  },
  {
   "cell_type": "code",
   "execution_count": 19,
   "id": "e3c2c933",
   "metadata": {},
   "outputs": [
    {
     "data": {
      "text/html": [
       "\n",
       "        <iframe\n",
       "            width=\"100%\"\n",
       "            height=\"500px\"\n",
       "            src=\"nebulagraph.html\"\n",
       "            frameborder=\"0\"\n",
       "            allowfullscreen\n",
       "            \n",
       "        ></iframe>\n",
       "        "
      ],
      "text/plain": [
       "<IPython.lib.display.IFrame at 0x15b871e2bf0>"
      ]
     },
     "metadata": {},
     "output_type": "display_data"
    },
    {
     "data": {
      "text/plain": [
       "<class 'pyvis.network.Network'> |N|=75 |E|=75"
      ]
     },
     "execution_count": 19,
     "metadata": {},
     "output_type": "execute_result"
    }
   ],
   "source": [
    "%ng_draw"
   ]
  },
  {
   "cell_type": "code",
   "execution_count": 20,
   "id": "a9e67884",
   "metadata": {},
   "outputs": [
    {
     "data": {
      "text/markdown": [
       "<b>The Philadelphia Phillies are a professional baseball team based in Philadelphia. They compete in Major League Baseball as a member of the National League East division. The team has a long history, dating back to their establishment in 1883. They have won two World Series championships, eight National League pennants, and have made 15 playoff appearances. The Phillies have played over 21,000 games and have won over 10,000 of them. They have played at several stadiums in Philadelphia, including Recreation Park, Baker Bowl, Shibe Park (renamed Connie Mack Stadium), Veterans Stadium, and currently, Citizens Bank Park. The team has had both periods of success and periods of futility throughout their history. They have a rivalry with the Washington Nationals, which dates back to the Nationals' original tenure as the Montreal Expos. The Phillies also had a historical rivalry with the Philadelphia Athletics, known as the City Series. The team has retired eight numbers and has a Wall of Fame to honor former players. They have had notable players in their history, including Hall of Famer Mike Schmidt. In recent years, the Phillies have had ups and downs, with periods of success and periods of rebuilding.</b>"
      ],
      "text/plain": [
       "<IPython.core.display.Markdown object>"
      ]
     },
     "metadata": {},
     "output_type": "display_data"
    }
   ],
   "source": [
    "response = query_engine.query(\"Tell me about some of the facts of Philadelphia Phillies.\")\n",
    "display(Markdown(f\"<b>{response}</b>\"))"
   ]
  },
  {
   "cell_type": "code",
   "execution_count": 21,
   "id": "d1144d69",
   "metadata": {},
   "outputs": [
    {
     "data": {
      "text/html": [
       "<div>\n",
       "<style scoped>\n",
       "    .dataframe tbody tr th:only-of-type {\n",
       "        vertical-align: middle;\n",
       "    }\n",
       "\n",
       "    .dataframe tbody tr th {\n",
       "        vertical-align: top;\n",
       "    }\n",
       "\n",
       "    .dataframe thead th {\n",
       "        text-align: right;\n",
       "    }\n",
       "</style>\n",
       "<table border=\"1\" class=\"dataframe\">\n",
       "  <thead>\n",
       "    <tr style=\"text-align: right;\">\n",
       "      <th></th>\n",
       "      <th>p</th>\n",
       "      <th>e</th>\n",
       "      <th>m</th>\n",
       "    </tr>\n",
       "  </thead>\n",
       "  <tbody>\n",
       "    <tr>\n",
       "      <th>0</th>\n",
       "      <td>(\"Philadelphia Phillies\" :entity{name: \"Philad...</td>\n",
       "      <td>(\"Philadelphia Phillies\")-[:relationship@-9215...</td>\n",
       "      <td>(\"Joe Girardi\" :entity{name: \"Joe Girardi\"})</td>\n",
       "    </tr>\n",
       "    <tr>\n",
       "      <th>1</th>\n",
       "      <td>(\"Philadelphia Phillies\" :entity{name: \"Philad...</td>\n",
       "      <td>(\"Philadelphia Phillies\")-[:relationship@-8815...</td>\n",
       "      <td>(\"Major League Baseball\" :entity{name: \"Major ...</td>\n",
       "    </tr>\n",
       "    <tr>\n",
       "      <th>2</th>\n",
       "      <td>(\"Philadelphia Phillies\" :entity{name: \"Philad...</td>\n",
       "      <td>(\"Philadelphia Phillies\")-[:relationship@-4023...</td>\n",
       "      <td>(\"15 playoff appearances\" :entity{name: \"15 pl...</td>\n",
       "    </tr>\n",
       "    <tr>\n",
       "      <th>3</th>\n",
       "      <td>(\"Philadelphia Phillies\" :entity{name: \"Philad...</td>\n",
       "      <td>(\"Philadelphia Phillies\")-[:relationship@14545...</td>\n",
       "      <td>(\"National League\" :entity{name: \"National Lea...</td>\n",
       "    </tr>\n",
       "    <tr>\n",
       "      <th>4</th>\n",
       "      <td>(\"Philadelphia Phillies\" :entity{name: \"Philad...</td>\n",
       "      <td>(\"Philadelphia Phillies\")-[:relationship@26691...</td>\n",
       "      <td>(\"American professional baseball team\" :entity...</td>\n",
       "    </tr>\n",
       "    <tr>\n",
       "      <th>5</th>\n",
       "      <td>(\"Philadelphia Phillies\" :entity{name: \"Philad...</td>\n",
       "      <td>(\"Philadelphia Phillies\")-[:relationship@30666...</td>\n",
       "      <td>(\"Lehigh Valley IronPigs\" :entity{name: \"Lehig...</td>\n",
       "    </tr>\n",
       "    <tr>\n",
       "      <th>6</th>\n",
       "      <td>(\"Philadelphia Phillies\" :entity{name: \"Philad...</td>\n",
       "      <td>(\"Philadelphia Phillies\")-[:relationship@42124...</td>\n",
       "      <td>(\"Philadelphia\" :entity{name: \"Philadelphia\"})</td>\n",
       "    </tr>\n",
       "    <tr>\n",
       "      <th>7</th>\n",
       "      <td>(\"Philadelphia Phillies\" :entity{name: \"Philad...</td>\n",
       "      <td>(\"Philadelphia Phillies\")-[:relationship@91846...</td>\n",
       "      <td>(\"eight National League pennants\" :entity{name...</td>\n",
       "    </tr>\n",
       "    <tr>\n",
       "      <th>8</th>\n",
       "      <td>(\"Philadelphia Phillies\" :entity{name: \"Philad...</td>\n",
       "      <td>(\"Philadelphia Phillies\")-[:relationship@91846...</td>\n",
       "      <td>(\"two World Series championships\" :entity{name...</td>\n",
       "    </tr>\n",
       "  </tbody>\n",
       "</table>\n",
       "</div>"
      ],
      "text/plain": [
       "                                                   p  \\\n",
       "0  (\"Philadelphia Phillies\" :entity{name: \"Philad...   \n",
       "1  (\"Philadelphia Phillies\" :entity{name: \"Philad...   \n",
       "2  (\"Philadelphia Phillies\" :entity{name: \"Philad...   \n",
       "3  (\"Philadelphia Phillies\" :entity{name: \"Philad...   \n",
       "4  (\"Philadelphia Phillies\" :entity{name: \"Philad...   \n",
       "5  (\"Philadelphia Phillies\" :entity{name: \"Philad...   \n",
       "6  (\"Philadelphia Phillies\" :entity{name: \"Philad...   \n",
       "7  (\"Philadelphia Phillies\" :entity{name: \"Philad...   \n",
       "8  (\"Philadelphia Phillies\" :entity{name: \"Philad...   \n",
       "\n",
       "                                                   e  \\\n",
       "0  (\"Philadelphia Phillies\")-[:relationship@-9215...   \n",
       "1  (\"Philadelphia Phillies\")-[:relationship@-8815...   \n",
       "2  (\"Philadelphia Phillies\")-[:relationship@-4023...   \n",
       "3  (\"Philadelphia Phillies\")-[:relationship@14545...   \n",
       "4  (\"Philadelphia Phillies\")-[:relationship@26691...   \n",
       "5  (\"Philadelphia Phillies\")-[:relationship@30666...   \n",
       "6  (\"Philadelphia Phillies\")-[:relationship@42124...   \n",
       "7  (\"Philadelphia Phillies\")-[:relationship@91846...   \n",
       "8  (\"Philadelphia Phillies\")-[:relationship@91846...   \n",
       "\n",
       "                                                   m  \n",
       "0       (\"Joe Girardi\" :entity{name: \"Joe Girardi\"})  \n",
       "1  (\"Major League Baseball\" :entity{name: \"Major ...  \n",
       "2  (\"15 playoff appearances\" :entity{name: \"15 pl...  \n",
       "3  (\"National League\" :entity{name: \"National Lea...  \n",
       "4  (\"American professional baseball team\" :entity...  \n",
       "5  (\"Lehigh Valley IronPigs\" :entity{name: \"Lehig...  \n",
       "6     (\"Philadelphia\" :entity{name: \"Philadelphia\"})  \n",
       "7  (\"eight National League pennants\" :entity{name...  \n",
       "8  (\"two World Series championships\" :entity{name...  "
      ]
     },
     "execution_count": 21,
     "metadata": {},
     "output_type": "execute_result"
    }
   ],
   "source": [
    "%%ngql \n",
    "MATCH (p:`entity`)-[e:relationship]->(m:`entity`)\n",
    "  WHERE p.`entity`.`name` == 'Philadelphia Phillies' \n",
    "RETURN p, e, m;"
   ]
  },
  {
   "cell_type": "code",
   "execution_count": 22,
   "id": "f564e410",
   "metadata": {
    "scrolled": false
   },
   "outputs": [
    {
     "data": {
      "text/html": [
       "\n",
       "        <iframe\n",
       "            width=\"100%\"\n",
       "            height=\"500px\"\n",
       "            src=\"nebulagraph.html\"\n",
       "            frameborder=\"0\"\n",
       "            allowfullscreen\n",
       "            \n",
       "        ></iframe>\n",
       "        "
      ],
      "text/plain": [
       "<IPython.lib.display.IFrame at 0x15b87243fd0>"
      ]
     },
     "metadata": {},
     "output_type": "display_data"
    },
    {
     "data": {
      "text/plain": [
       "<class 'pyvis.network.Network'> |N|=10 |E|=9"
      ]
     },
     "execution_count": 22,
     "metadata": {},
     "output_type": "execute_result"
    }
   ],
   "source": [
    "%ng_draw"
   ]
  },
  {
   "cell_type": "markdown",
   "id": "110773e3",
   "metadata": {},
   "source": [
    "## Query with vector index"
   ]
  },
  {
   "cell_type": "code",
   "execution_count": 23,
   "id": "3f61f5f1",
   "metadata": {},
   "outputs": [
    {
     "name": "stdout",
     "output_type": "stream",
     "text": [
      "Loaded 1 documents\n",
      "Loaded 1 YouTube documents\n"
     ]
    },
    {
     "data": {
      "text/markdown": [
       "<b>Bryce Harper is a professional baseball player. He has played for the Philadelphia Phillies since the 2019 season. Harper signed a 13-year, $330 million deal with the Phillies, which was a significant move for the team. In 2021, he won the NL Most Valuable Player Award. Harper has been a key player for the Phillies and has contributed to their success, including their playoff appearances in the 2022 season.</b>"
      ],
      "text/plain": [
       "<IPython.core.display.Markdown object>"
      ]
     },
     "metadata": {},
     "output_type": "display_data"
    }
   ],
   "source": [
    "from llama_index import VectorStoreIndex\n",
    "\n",
    "WikipediaReader = download_loader(\"WikipediaReader\")\n",
    "loader = WikipediaReader()\n",
    "wiki_documents = loader.load_data(pages=['Philadelphia Phillies'], auto_suggest=False)\n",
    "print(f'Loaded {len(wiki_documents)} documents')\n",
    "\n",
    "youtube_loader = YoutubeTranscriptReader()\n",
    "youtube_documents = youtube_loader.load_data(ytlinks=['https://www.youtube.com/watch?v=k-HTQ8T7oVw'])    \n",
    "print(f'Loaded {len(youtube_documents)} YouTube documents')\n",
    "\n",
    "vector_index = VectorStoreIndex.from_documents(wiki_documents + youtube_documents)\n",
    "vector_query_engine = vector_index.as_query_engine()\n",
    "\n",
    "response = vector_query_engine.query(\"Tell me about Bryce Harper.\")\n",
    "display(Markdown(f\"<b>{response}</b>\"))"
   ]
  },
  {
   "cell_type": "code",
   "execution_count": 24,
   "id": "02a51d42",
   "metadata": {},
   "outputs": [
    {
     "data": {
      "text/markdown": [
       "<b>The standing ovation Trey Turner received had a positive impact on his season. After receiving the ovation, Turner had one of his best games in weeks and felt the love and support from the city of Philadelphia. This love and support seemed to have a significant effect on Turner's performance, as he went on to have a batting average of .343, with 25 hits, five home runs, and 15 RBIs in the 18 games following the ovation. The standing ovation and the subsequent success seemed to have boosted Turner's confidence and helped him get out of his slump.</b>"
      ],
      "text/plain": [
       "<IPython.core.display.Markdown object>"
      ]
     },
     "metadata": {},
     "output_type": "display_data"
    }
   ],
   "source": [
    "response = vector_query_engine.query(\"How did the standing ovation Trey Turner received change his season?\")\n",
    "display(Markdown(f\"<b>{response}</b>\"))"
   ]
  },
  {
   "cell_type": "code",
   "execution_count": 25,
   "id": "2b9eb77d",
   "metadata": {
    "scrolled": true
   },
   "outputs": [
    {
     "data": {
      "text/markdown": [
       "<b>The Philadelphia Phillies are a professional baseball team based in Philadelphia. They compete in Major League Baseball as a member of the National League East division. The team's home stadium is Citizens Bank Park, located in the South Philadelphia Sports Complex. The Phillies have a history dating back to 1883 and have played at several stadiums in the city over the years. They have won two World Series championships, eight National League pennants, and have made 15 playoff appearances. The team has a loyal fan base and is known for its longevity. The Phillies have had both periods of success and periods of futility throughout their history. They were the last of the pre-expansion teams to win a World Series, with their first championship coming in 1980. Since the start of the Divisional Era in 1969, the Phillies have been one of the most successful teams in MLB, winning 11 division titles, eight National League pennants, and two World Series championships. The team's Triple-A affiliate is the Lehigh Valley IronPigs, and their Double-A affiliate is the Reading Fightin Phils. The Phillies' spring training facilities are located in Clearwater, Florida.</b>"
      ],
      "text/plain": [
       "<IPython.core.display.Markdown object>"
      ]
     },
     "metadata": {},
     "output_type": "display_data"
    }
   ],
   "source": [
    "response = vector_query_engine.query(\"Tell me about some of the facts of Philadelphia Phillies.\")\n",
    "display(Markdown(f\"<b>{response}</b>\"))"
   ]
  },
  {
   "cell_type": "markdown",
   "id": "61fb291e",
   "metadata": {},
   "source": [
    "## Create CustomRetriever to combine vector store index and KG index"
   ]
  },
  {
   "cell_type": "code",
   "execution_count": 26,
   "id": "f273884b",
   "metadata": {},
   "outputs": [],
   "source": [
    "from llama_index import QueryBundle\n",
    "from llama_index.schema import NodeWithScore\n",
    "from llama_index.retrievers import BaseRetriever, VectorIndexRetriever, KGTableRetriever\n",
    "from typing import List\n",
    "\n",
    "class CustomRetriever(BaseRetriever):\n",
    "    \"\"\"Custom retriever that performs both Vector search and Knowledge Graph search\"\"\"\n",
    "\n",
    "    def __init__(\n",
    "        self,\n",
    "        vector_retriever: VectorIndexRetriever,\n",
    "        kg_retriever: KGTableRetriever,\n",
    "        mode: str = \"OR\",\n",
    "    ) -> None:\n",
    "        \"\"\"Init params.\"\"\"\n",
    "\n",
    "        self._vector_retriever = vector_retriever\n",
    "        self._kg_retriever = kg_retriever\n",
    "        if mode not in (\"AND\", \"OR\"):\n",
    "            raise ValueError(\"Invalid mode.\")\n",
    "        self._mode = mode\n",
    "\n",
    "    def _retrieve(self, query_bundle: QueryBundle) -> List[NodeWithScore]:\n",
    "        \"\"\"Retrieve nodes given query.\"\"\"\n",
    "\n",
    "        vector_nodes = self._vector_retriever.retrieve(query_bundle)\n",
    "        kg_nodes = self._kg_retriever.retrieve(query_bundle)\n",
    "\n",
    "        vector_ids = {n.node.node_id for n in vector_nodes}\n",
    "        kg_ids = {n.node.node_id for n in kg_nodes}\n",
    "\n",
    "        combined_dict = {n.node.node_id: n for n in vector_nodes}\n",
    "        combined_dict.update({n.node.node_id: n for n in kg_nodes})\n",
    "\n",
    "        if self._mode == \"AND\":\n",
    "            retrieve_ids = vector_ids.intersection(kg_ids)\n",
    "        else:\n",
    "            retrieve_ids = vector_ids.union(kg_ids)\n",
    "\n",
    "        retrieve_nodes = [combined_dict[rid] for rid in retrieve_ids]\n",
    "        return retrieve_nodes"
   ]
  },
  {
   "cell_type": "code",
   "execution_count": 27,
   "id": "f28c06f8",
   "metadata": {},
   "outputs": [],
   "source": [
    "from llama_index import get_response_synthesizer\n",
    "from llama_index.query_engine import RetrieverQueryEngine\n",
    "from llama_index.retrievers import VectorIndexRetriever, KGTableRetriever\n",
    "\n",
    "# create custom retriever\n",
    "vector_retriever = VectorIndexRetriever(index=vector_index)\n",
    "kg_retriever = KGTableRetriever(\n",
    "    index=kg_index, retriever_mode=\"keyword\", include_text=False\n",
    ")\n",
    "custom_retriever = CustomRetriever(vector_retriever, kg_retriever)\n",
    "\n",
    "# create response synthesizer\n",
    "response_synthesizer = get_response_synthesizer(\n",
    "    service_context=service_context,\n",
    "    response_mode=\"tree_summarize\",\n",
    ")"
   ]
  },
  {
   "cell_type": "markdown",
   "id": "fc841189",
   "metadata": {},
   "source": [
    "## Create 5 query engines and run queries"
   ]
  },
  {
   "cell_type": "code",
   "execution_count": 28,
   "id": "8c5faed8",
   "metadata": {},
   "outputs": [],
   "source": [
    "# KG default query engine\n",
    "kg_query_engine = kg_index.as_query_engine()\n",
    "\n",
    "# KG keyword query engine\n",
    "kg_keyword_query_engine = kg_index.as_query_engine(\n",
    "    # setting to false uses the raw triplets instead of adding the text from the corresponding nodes\n",
    "    include_text=False,\n",
    "    retriever_mode=\"keyword\",\n",
    "    response_mode=\"tree_summarize\",\n",
    ")\n",
    "\n",
    "# KG hybrid query engine\n",
    "kg_hybrid_query_engine = kg_index.as_query_engine(\n",
    "    include_text=True,\n",
    "    response_mode=\"tree_summarize\",\n",
    "    embedding_mode=\"hybrid\",\n",
    "    similarity_top_k=3,\n",
    "    explore_global_knowledge=True,\n",
    ")\n",
    "\n",
    "# Vector query engine\n",
    "vector_query_engine = vector_index.as_query_engine()\n",
    "\n",
    "# Custom combo query engine\n",
    "custom_query_engine = RetrieverQueryEngine(\n",
    "    retriever=custom_retriever,\n",
    "    response_synthesizer=response_synthesizer,\n",
    ")"
   ]
  },
  {
   "cell_type": "code",
   "execution_count": 68,
   "id": "07739d4a",
   "metadata": {},
   "outputs": [
    {
     "data": {
      "text/markdown": [
       "<b>Bryce Harper is a baseball player who was named MVP of the NLCS. He also fueled tensions after signing a 13-year $330 million contract.</b>"
      ],
      "text/plain": [
       "<IPython.core.display.Markdown object>"
      ]
     },
     "metadata": {},
     "output_type": "display_data"
    }
   ],
   "source": [
    "response = kg_query_engine.query(\"Tell me about Bryce Harper.\")\n",
    "display(Markdown(f\"<b>{response}</b>\"))"
   ]
  },
  {
   "cell_type": "code",
   "execution_count": 69,
   "id": "99889510",
   "metadata": {},
   "outputs": [
    {
     "data": {
      "text/markdown": [
       "<b>Bryce Harper is a person who has been involved in various relationships and events. He was named MVP of the NLCS, and he also fueled tensions after signing a 13-year $330 million contract.</b>"
      ],
      "text/plain": [
       "<IPython.core.display.Markdown object>"
      ]
     },
     "metadata": {},
     "output_type": "display_data"
    }
   ],
   "source": [
    "response = kg_keyword_query_engine.query(\"Tell me about Bryce Harper.\")\n",
    "display(Markdown(f\"<b>{response}</b>\"))"
   ]
  },
  {
   "cell_type": "code",
   "execution_count": 73,
   "id": "6be9dd39",
   "metadata": {},
   "outputs": [
    {
     "data": {
      "text/markdown": [
       "<b>Bryce Harper is a star-outfielder who has made a significant impact in the baseball world. He is known for his notable performance and contributions to the Philadelphia Phillies, where he signed a lucrative 13-year $330 million contract as a free agent in 2019. Harper's signing with the Phillies fueled tensions in the rivalry between the Phillies and the Washington Nationals, as he had previously played for the Nationals. Despite Harper's absence from the Nationals in 2019, the team went on to win the World Series that year. Additionally, Harper's achievements include being named the Most Valuable Player (MVP) of the National League Championship Series (NLCS).</b>"
      ],
      "text/plain": [
       "<IPython.core.display.Markdown object>"
      ]
     },
     "metadata": {},
     "output_type": "display_data"
    }
   ],
   "source": [
    "response = kg_hybrid_query_engine.query(\"Tell me about Bryce Harper.\")\n",
    "display(Markdown(f\"<b>{response}</b>\"))"
   ]
  },
  {
   "cell_type": "code",
   "execution_count": 71,
   "id": "e066b6de",
   "metadata": {},
   "outputs": [
    {
     "data": {
      "text/markdown": [
       "<b>Bryce Harper is a professional baseball player who has played for the Philadelphia Phillies since the 2019 season. He was signed to a 13-year, $330 million deal, making it a significant move for the Phillies. Harper has been a key player for the team and has had notable achievements, including winning the NL Most Valuable Player Award for the 2021 season. He has been a major highlight for the Phillies and has contributed to their success on the field.</b>"
      ],
      "text/plain": [
       "<IPython.core.display.Markdown object>"
      ]
     },
     "metadata": {},
     "output_type": "display_data"
    }
   ],
   "source": [
    "response = vector_query_engine.query(\"Tell me about Bryce Harper.\")\n",
    "display(Markdown(f\"<b>{response}</b>\"))"
   ]
  },
  {
   "cell_type": "code",
   "execution_count": 72,
   "id": "78d51472",
   "metadata": {},
   "outputs": [
    {
     "data": {
      "text/markdown": [
       "<b>Bryce Harper is a professional baseball player who has played for the Philadelphia Phillies. He joined the team in 2019 after signing a 13-year, $330 million contract, which was a significant move for the Phillies. Harper has been a standout player for the team and has had notable achievements, including winning the NL Most Valuable Player Award in 2021. He has been a key player in the Phillies' recent success, including their playoff appearances in 2022 and their advancement to the World Series. Harper's contributions to the team have made him a highly regarded player in the league.</b>"
      ],
      "text/plain": [
       "<IPython.core.display.Markdown object>"
      ]
     },
     "metadata": {},
     "output_type": "display_data"
    }
   ],
   "source": [
    "response = custom_query_engine.query(\"Tell me about Bryce Harper.\")\n",
    "display(Markdown(f\"<b>{response}</b>\"))"
   ]
  },
  {
   "cell_type": "code",
   "execution_count": 34,
   "id": "52784cf4",
   "metadata": {},
   "outputs": [
    {
     "data": {
      "text/markdown": [
       "<b>Trey Turner has won the World Series and has helped lead his team to the WBC Championship. He is a two-time All-Star and a one-time Silver Slugger. He is known for his speed and has recorded three Cycles, tying the all-time MLB record.</b>"
      ],
      "text/plain": [
       "<IPython.core.display.Markdown object>"
      ]
     },
     "metadata": {},
     "output_type": "display_data"
    }
   ],
   "source": [
    "response = custom_query_engine.query(\"Tell me some positive facts about Trey Turner.\")\n",
    "display(Markdown(f\"<b>{response}</b>\"))"
   ]
  },
  {
   "cell_type": "code",
   "execution_count": 64,
   "id": "8f24ea88",
   "metadata": {},
   "outputs": [
    {
     "data": {
      "text/markdown": [
       "<b>The impact of the standing ovation Trey Turner received on his season seems to have been positive. Following the standing ovation, Trey Turner had a standout performance, describing the hit he got as one of his best swings all year. In the 18 games that followed, Trey Turner has been performing well, boasting a batting average of .343, hitting five home runs, and driving in 15 RBIs. It appears that the love and support shown by the fans during the standing ovation played a role in boosting Trey Turner's confidence and enhancing his on-field performance.</b>"
      ],
      "text/plain": [
       "<IPython.core.display.Markdown object>"
      ]
     },
     "metadata": {},
     "output_type": "display_data"
    }
   ],
   "source": [
    "response = kg_query_engine.query(\"How did the standing ovation Trey Turner received change his season?\")\n",
    "display(Markdown(f\"<b>{response}</b>\"))"
   ]
  },
  {
   "cell_type": "code",
   "execution_count": 65,
   "id": "9f2b9d5a",
   "metadata": {},
   "outputs": [
    {
     "data": {
      "text/markdown": [
       "<b>The standing ovation Trey Turner received likely had a positive impact on his season. It may have boosted his confidence and morale, motivating him to perform better. Additionally, the standing ovation could have served as a recognition and appreciation for his achievements, which could have further motivated him to excel in his performance.</b>"
      ],
      "text/plain": [
       "<IPython.core.display.Markdown object>"
      ]
     },
     "metadata": {},
     "output_type": "display_data"
    }
   ],
   "source": [
    "response = kg_keyword_query_engine.query(\"How did the standing ovation Trey Turner received change his season?\")\n",
    "display(Markdown(f\"<b>{response}</b>\"))"
   ]
  },
  {
   "cell_type": "code",
   "execution_count": 66,
   "id": "e7f0ac92",
   "metadata": {
    "scrolled": true
   },
   "outputs": [
    {
     "data": {
      "text/markdown": [
       "<b>The standing ovation Trey Turner received likely had a positive impact on his season. It may have boosted his confidence and morale, leading to improved performance on the field. Additionally, the standing ovation could have served as a motivating factor for Turner, inspiring him to continue working hard and striving for success. Overall, the standing ovation likely had a positive influence on Turner's season.</b>"
      ],
      "text/plain": [
       "<IPython.core.display.Markdown object>"
      ]
     },
     "metadata": {},
     "output_type": "display_data"
    }
   ],
   "source": [
    "response = kg_hybrid_query_engine.query(\"How did the standing ovation Trey Turner received change his season?\")\n",
    "display(Markdown(f\"<b>{response}</b>\"))"
   ]
  },
  {
   "cell_type": "code",
   "execution_count": 63,
   "id": "9b9d54a9",
   "metadata": {},
   "outputs": [
    {
     "data": {
      "text/markdown": [
       "<b>The standing ovation Trey Turner received had a positive impact on his season. After receiving the ovation, Turner had one of his best games in weeks and felt the love and support from the city of Philadelphia. This love and support seemed to have a significant effect on Turner's performance, as he went on to have a batting average of .343, with 25 hits, five home runs, and 15 RBIs in the 18 games following the ovation. The standing ovation and the subsequent success seemed to boost Turner's confidence and improve his overall performance on the field.</b>"
      ],
      "text/plain": [
       "<IPython.core.display.Markdown object>"
      ]
     },
     "metadata": {},
     "output_type": "display_data"
    }
   ],
   "source": [
    "response = vector_query_engine.query(\"How did the standing ovation Trey Turner received change his season?\")\n",
    "display(Markdown(f\"<b>{response}</b>\"))"
   ]
  },
  {
   "cell_type": "code",
   "execution_count": 67,
   "id": "46aeefec",
   "metadata": {
    "scrolled": true
   },
   "outputs": [
    {
     "data": {
      "text/markdown": [
       "<b>The standing ovation Trey Turner received had both a negative and positive impact on his season. It seemed to initially contribute to his frustrations and struggles, leading to a decline in his performance on both offense and defense. However, the ovation also served as a turning point for Turner. It made him realize that something needed to change, and he took it upon himself to work harder and improve his performance. As a result, his performance significantly improved in the games following the ovation, with a higher batting average, OPS, and several hits, home runs, and RBIs. Overall, the standing ovation seemed to have a transformative effect on Turner's season.</b>"
      ],
      "text/plain": [
       "<IPython.core.display.Markdown object>"
      ]
     },
     "metadata": {},
     "output_type": "display_data"
    }
   ],
   "source": [
    "response = custom_query_engine.query(\"How did the standing ovation Trey Turner received change his season?\")\n",
    "display(Markdown(f\"<b>{response}</b>\"))"
   ]
  },
  {
   "cell_type": "code",
   "execution_count": null,
   "id": "66f5f4bf",
   "metadata": {},
   "outputs": [],
   "source": []
  },
  {
   "cell_type": "code",
   "execution_count": 40,
   "id": "a6db5f55",
   "metadata": {
    "scrolled": true
   },
   "outputs": [
    {
     "data": {
      "text/markdown": [
       "<b>The Philadelphia Phillies are a professional baseball team based in Philadelphia. They compete in Major League Baseball as a member of the National League East division. The team has a long history, being founded in 1883. They have won two World Series championships, eight National League pennants, and have made 15 playoff appearances. The Phillies have played over 21,000 games, with a record of 10,022 wins and 11,187 losses. They have played at several stadiums in Philadelphia, including Recreation Park, Baker Bowl, Shibe Park, Veterans Stadium, and currently Citizens Bank Park. The team has a passionate fan base and a rivalry with the Washington Nationals. The Phillies have had 33 players inducted into the Baseball Hall of Fame.</b>"
      ],
      "text/plain": [
       "<IPython.core.display.Markdown object>"
      ]
     },
     "metadata": {},
     "output_type": "display_data"
    }
   ],
   "source": [
    "response = custom_query_engine.query(\"Tell me about some of the facts of Philadelphia Phillies.\")\n",
    "display(Markdown(f\"<b>{response}</b>\"))"
   ]
  },
  {
   "cell_type": "code",
   "execution_count": null,
   "id": "a6153533",
   "metadata": {},
   "outputs": [],
   "source": []
  },
  {
   "cell_type": "code",
   "execution_count": 59,
   "id": "2d4a6314",
   "metadata": {},
   "outputs": [
    {
     "data": {
      "text/markdown": [
       "<b>The current stadium of the Philadelphia Phillies is Citizens Bank Park. It has been the team's home stadium since 2004 and is located in the South Philadelphia Sports Complex. Citizens Bank Park has hosted various events, including Phillies games, concerts, and other sporting events.</b>"
      ],
      "text/plain": [
       "<IPython.core.display.Markdown object>"
      ]
     },
     "metadata": {},
     "output_type": "display_data"
    }
   ],
   "source": [
    "response = kg_query_engine.query(\"Tell me some facts about the current stadium of Philadelphia Phillies.\")\n",
    "display(Markdown(f\"<b>{response}</b>\"))"
   ]
  },
  {
   "cell_type": "code",
   "execution_count": 60,
   "id": "17189425",
   "metadata": {},
   "outputs": [
    {
     "data": {
      "text/markdown": [
       "<b>The current stadium of the Philadelphia Phillies is named Veterans Stadium. It was opened in 1971 and used from 1970 to 1991.</b>"
      ],
      "text/plain": [
       "<IPython.core.display.Markdown object>"
      ]
     },
     "metadata": {},
     "output_type": "display_data"
    }
   ],
   "source": [
    "response = kg_keyword_query_engine.query(\"Tell me some facts about the current stadium of Philadelphia Phillies.\")\n",
    "display(Markdown(f\"<b>{response}</b>\"))"
   ]
  },
  {
   "cell_type": "code",
   "execution_count": 75,
   "id": "a5d84c12",
   "metadata": {},
   "outputs": [
    {
     "data": {
      "text/markdown": [
       "<b>The current stadium of the Philadelphia Phillies is called Citizens Bank Park. It has been the team's home stadium since 2004 and is located in the South Philadelphia Sports Complex. Citizens Bank Park has hosted various events, including Phillies games, concerts, and other sporting events.</b>"
      ],
      "text/plain": [
       "<IPython.core.display.Markdown object>"
      ]
     },
     "metadata": {},
     "output_type": "display_data"
    }
   ],
   "source": [
    "response = kg_hybrid_query_engine.query(\"Tell me some facts about the current stadium of Philadelphia Phillies.\")\n",
    "display(Markdown(f\"<b>{response}</b>\"))"
   ]
  },
  {
   "cell_type": "code",
   "execution_count": 58,
   "id": "0d15a779",
   "metadata": {},
   "outputs": [
    {
     "data": {
      "text/markdown": [
       "<b>Citizens Bank Park is the current stadium of the Philadelphia Phillies. It has been their home stadium since 2004 and is located in the South Philadelphia Sports Complex.</b>"
      ],
      "text/plain": [
       "<IPython.core.display.Markdown object>"
      ]
     },
     "metadata": {},
     "output_type": "display_data"
    }
   ],
   "source": [
    "response = vector_query_engine.query(\"Tell me some facts about the current stadium of Philadelphia Phillies.\")\n",
    "display(Markdown(f\"<b>{response}</b>\"))"
   ]
  },
  {
   "cell_type": "code",
   "execution_count": 74,
   "id": "0e4d7c45",
   "metadata": {},
   "outputs": [
    {
     "data": {
      "text/markdown": [
       "<b>The current stadium of the Philadelphia Phillies is Citizens Bank Park. It has been the team's home stadium since 2004 and is located in the South Philadelphia Sports Complex. Citizens Bank Park has a seating capacity of approximately 43,000 and is known for its unique features such as the Liberty Bell and the Ashburn Alley, which pays tribute to former Phillies player Richie Ashburn. The stadium has also undergone upgrades, including a new video display screen in left field, making it the largest in the National League.</b>"
      ],
      "text/plain": [
       "<IPython.core.display.Markdown object>"
      ]
     },
     "metadata": {},
     "output_type": "display_data"
    }
   ],
   "source": [
    "response = custom_query_engine.query(\"Tell me some facts about the current stadium of Philadelphia Phillies.\")\n",
    "display(Markdown(f\"<b>{response}</b>\"))"
   ]
  },
  {
   "cell_type": "code",
   "execution_count": null,
   "id": "730b26cd",
   "metadata": {},
   "outputs": [],
   "source": []
  }
 ],
 "metadata": {
  "kernelspec": {
   "display_name": "Python 3 (ipykernel)",
   "language": "python",
   "name": "python3"
  },
  "language_info": {
   "codemirror_mode": {
    "name": "ipython",
    "version": 3
   },
   "file_extension": ".py",
   "mimetype": "text/x-python",
   "name": "python",
   "nbconvert_exporter": "python",
   "pygments_lexer": "ipython3",
   "version": "3.10.9"
  }
 },
 "nbformat": 4,
 "nbformat_minor": 5
}
